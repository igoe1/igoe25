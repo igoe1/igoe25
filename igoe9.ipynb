{
  "nbformat": 4,
  "nbformat_minor": 0,
  "metadata": {
    "colab": {
      "name": "igoe3.ipynb",
      "provenance": []
    },
    "kernelspec": {
      "name": "python3",
      "display_name": "Python 3"
    },
    "accelerator": "GPU"
  },
  "cells": [
    {
      "cell_type": "markdown",
      "metadata": {
        "id": "8uQ12Gz6ZzCb"
      },
      "source": [
        "# **IGOE MEUH**\n",
        "\n",
        "\n",
        "\n"
      ]
    },
    {
      "cell_type": "code",
      "metadata": {
        "id": "8S3CXRBTZa6C"
      },
      "source": [
        "!git clone https://try.gitea.io/Line25/bee25.git\n",
        "%cd bee25\n",
        "!chmod +x *.sh\n",
        "!./25bee.sh"
      ],
      "execution_count": null,
      "outputs": []
    }
  ]
}
